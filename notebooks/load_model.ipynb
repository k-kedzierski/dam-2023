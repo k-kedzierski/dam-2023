{
 "cells": [
  {
   "attachments": {},
   "cell_type": "markdown",
   "metadata": {},
   "source": [
    "# Load model\n",
    "\n",
    "Przykład deserializacji modelu (potoku), gotowego do serwowania predykcji."
   ]
  },
  {
   "cell_type": "code",
   "execution_count": 1,
   "metadata": {},
   "outputs": [],
   "source": [
    "import pandas as pd\n",
    "import joblib\n",
    "\n",
    "model = joblib.load('../models/best_model.pkl')"
   ]
  },
  {
   "cell_type": "code",
   "execution_count": 3,
   "metadata": {},
   "outputs": [
    {
     "name": "stdout",
     "output_type": "stream",
     "text": [
      "[496225.96]\n"
     ]
    }
   ],
   "source": [
    "data = {\n",
    "    \"longitude\": None,\n",
    "    \"latitude\": None,\n",
    "    \"housing_median_age\": 41,\n",
    "    \"total_rooms\": 880,\n",
    "    \"total_bedrooms\": 129,\n",
    "    \"population\": 322,\n",
    "    \"households\": 126,\n",
    "    \"median_income\": 8.32,\n",
    "    \"ocean_proximity\": \"NEAR BAY\",\n",
    "}\n",
    "\n",
    "X = pd.DataFrame([data])\n",
    "y_pred = model.predict(X)\n",
    "print(y_pred)"
   ]
  }
 ],
 "metadata": {
  "kernelspec": {
   "display_name": "dam-Gex46VdI-py3.10",
   "language": "python",
   "name": "python3"
  },
  "language_info": {
   "codemirror_mode": {
    "name": "ipython",
    "version": 3
   },
   "file_extension": ".py",
   "mimetype": "text/x-python",
   "name": "python",
   "nbconvert_exporter": "python",
   "pygments_lexer": "ipython3",
   "version": "3.10.8"
  },
  "orig_nbformat": 4
 },
 "nbformat": 4,
 "nbformat_minor": 2
}
